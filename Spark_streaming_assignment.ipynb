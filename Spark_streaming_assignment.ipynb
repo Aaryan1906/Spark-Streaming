{
 "cells": [
  {
   "cell_type": "code",
   "execution_count": null,
   "metadata": {
    "colab": {
     "base_uri": "https://localhost:8080/"
    },
    "id": "Lq4xVSIsnaiM",
    "outputId": "fe8a6952-a485-4881-aa34-c20b72178ae5"
   },
   "outputs": [
    {
     "name": "stdout",
     "output_type": "stream",
     "text": [
      "Number of words in the file: 4\n"
     ]
    }
   ],
   "source": [
    "from pyspark.sql import SparkSession\n",
    "\n",
    "# Create a SparkSession\n",
    "spark = SparkSession.builder.appName(\"WordCount\").getOrCreate()\n",
    "\n",
    "# Read the text file from the local system\n",
    "# Use 'file:///' prefix for local files and forward slashes for path separators\n",
    "file_path = \"/content/entry_points.txt\"\n",
    "text_file = spark.read.text(file_path).rdd.map(lambda r: r[0])\n",
    "\n",
    "word_counts = text_file.flatMap(lambda line: line.split(\" \")).count()\n",
    "\n",
    "# Print the word count\n",
    "print(\"Number of words in the file:\", word_counts)\n",
    "\n",
    "# Stop the SparkSession\n",
    "spark.stop()"
   ]
  },
  {
   "cell_type": "code",
   "execution_count": null,
   "metadata": {
    "colab": {
     "base_uri": "https://localhost:8080/"
    },
    "id": "XH3kmMLqoP2K",
    "outputId": "eef8dbbf-a0a9-4d41-b97c-ba5e70dc3f0e"
   },
   "outputs": [
    {
     "name": "stdout",
     "output_type": "stream",
     "text": [
      "Requirement already satisfied: opencv-python in /usr/local/lib/python3.10/dist-packages (4.10.0.84)\n",
      "Requirement already satisfied: numpy>=1.21.2 in /usr/local/lib/python3.10/dist-packages (from opencv-python) (1.26.4)\n"
     ]
    }
   ],
   "source": [
    "!pip install opencv-python\n"
   ]
  },
  {
   "cell_type": "code",
   "execution_count": null,
   "metadata": {
    "colab": {
     "background_save": true,
     "base_uri": "https://localhost:8080/",
     "height": 1000
    },
    "id": "6SAsJmR5zHm7",
    "outputId": "fe01ef5e-ec2c-4903-b795-f48fa5cdfa62"
   },
   "outputs": [],
   "source": [
    "import cv2\n",
    "from google.colab.patches import cv2_imshow # Import cv2_imshow for Colab compatibility\n",
    "\n",
    "# Replace with the path to your video file\n",
    "video_file_path = \"/content/133829-758327963_tiny.mp4.crdownload\"\n",
    "\n",
    "# Initialize video capture with the video file\n",
    "video_capture = cv2.VideoCapture(video_file_path)\n",
    "\n",
    "# Check if the video stream is opened successfully\n",
    "if not video_capture.isOpened():\n",
    "    print(\"Error opening video stream or file\")\n",
    "    exit()\n",
    "\n",
    "while True:\n",
    "    # Read a frame from the video stream\n",
    "    ret, frame = video_capture.read()\n",
    "\n",
    "    # If frame is read correctly, ret is True\n",
    "    if not ret:\n",
    "        print(\"Can't receive frame (stream end?). Exiting ...\")\n",
    "        break\n",
    "\n",
    "    # Perform analysis on the frame here\n",
    "    # Example: Convert to grayscale\n",
    "    gray = cv2.cvtColor(frame, cv2.COLOR_BGR2GRAY)\n",
    "\n",
    "    # Display the resulting frame using cv2_imshow for Colab\n",
    "    cv2_imshow(gray) # Replaced cv2.imshow with cv2_imshow\n",
    "\n",
    "    # Exit if 'q' is pressed\n",
    "    if cv2.waitKey(1) & 0xFF == ord('q'):\n",
    "        break\n",
    "\n",
    "# When everything done, release the capture\n",
    "video_capture.release()\n",
    "cv2.destroyAllWindows()\n"
   ]
  },
  {
   "cell_type": "code",
   "execution_count": null,
   "metadata": {
    "id": "y87zBGFU16xG"
   },
   "outputs": [],
   "source": []
  }
 ],
 "metadata": {
  "colab": {
   "provenance": []
  },
  "kernelspec": {
   "display_name": "Python 3",
   "name": "python3"
  },
  "language_info": {
   "name": "python"
  }
 },
 "nbformat": 4,
 "nbformat_minor": 0
}
